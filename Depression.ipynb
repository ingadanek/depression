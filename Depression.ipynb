{
 "cells": [
  {
   "cell_type": "code",
   "execution_count": 1,
   "id": "straight-curve",
   "metadata": {},
   "outputs": [],
   "source": [
    "import numpy as np\n",
    "import pandas as pd\n",
    "import matplotlib.pyplot as plt\n",
    "import seaborn as sns"
   ]
  },
  {
   "cell_type": "code",
   "execution_count": 2,
   "id": "integrated-addiction",
   "metadata": {},
   "outputs": [],
   "source": [
    "raw_csv_data = pd.read_csv('Wellbeing_and_lifestyle_data.csv')"
   ]
  },
  {
   "cell_type": "code",
   "execution_count": 3,
   "id": "african-trailer",
   "metadata": {
    "scrolled": true
   },
   "outputs": [],
   "source": [
    "df = raw_csv_data.copy()"
   ]
  },
  {
   "cell_type": "code",
   "execution_count": 4,
   "id": "gothic-rolling",
   "metadata": {},
   "outputs": [
    {
     "data": {
      "text/html": [
       "<div>\n",
       "<style scoped>\n",
       "    .dataframe tbody tr th:only-of-type {\n",
       "        vertical-align: middle;\n",
       "    }\n",
       "\n",
       "    .dataframe tbody tr th {\n",
       "        vertical-align: top;\n",
       "    }\n",
       "\n",
       "    .dataframe thead th {\n",
       "        text-align: right;\n",
       "    }\n",
       "</style>\n",
       "<table border=\"1\" class=\"dataframe\">\n",
       "  <thead>\n",
       "    <tr style=\"text-align: right;\">\n",
       "      <th></th>\n",
       "      <th>Timestamp</th>\n",
       "      <th>FRUITS_VEGGIES</th>\n",
       "      <th>DAILY_STRESS</th>\n",
       "      <th>PLACES_VISITED</th>\n",
       "      <th>CORE_CIRCLE</th>\n",
       "      <th>SUPPORTING_OTHERS</th>\n",
       "      <th>SOCIAL_NETWORK</th>\n",
       "      <th>ACHIEVEMENT</th>\n",
       "      <th>DONATION</th>\n",
       "      <th>BMI_RANGE</th>\n",
       "      <th>...</th>\n",
       "      <th>LIVE_VISION</th>\n",
       "      <th>SLEEP_HOURS</th>\n",
       "      <th>LOST_VACATION</th>\n",
       "      <th>DAILY_SHOUTING</th>\n",
       "      <th>SUFFICIENT_INCOME</th>\n",
       "      <th>PERSONAL_AWARDS</th>\n",
       "      <th>TIME_FOR_PASSION</th>\n",
       "      <th>DAILY_MEDITATION</th>\n",
       "      <th>AGE</th>\n",
       "      <th>GENDER</th>\n",
       "    </tr>\n",
       "  </thead>\n",
       "  <tbody>\n",
       "    <tr>\n",
       "      <th>0</th>\n",
       "      <td>7/7/15</td>\n",
       "      <td>3</td>\n",
       "      <td>2</td>\n",
       "      <td>2</td>\n",
       "      <td>5</td>\n",
       "      <td>0</td>\n",
       "      <td>5</td>\n",
       "      <td>2</td>\n",
       "      <td>0</td>\n",
       "      <td>1</td>\n",
       "      <td>...</td>\n",
       "      <td>0</td>\n",
       "      <td>7</td>\n",
       "      <td>5</td>\n",
       "      <td>5</td>\n",
       "      <td>1</td>\n",
       "      <td>4</td>\n",
       "      <td>0</td>\n",
       "      <td>5</td>\n",
       "      <td>36 to 50</td>\n",
       "      <td>Female</td>\n",
       "    </tr>\n",
       "    <tr>\n",
       "      <th>1</th>\n",
       "      <td>7/7/15</td>\n",
       "      <td>2</td>\n",
       "      <td>3</td>\n",
       "      <td>4</td>\n",
       "      <td>3</td>\n",
       "      <td>8</td>\n",
       "      <td>10</td>\n",
       "      <td>5</td>\n",
       "      <td>2</td>\n",
       "      <td>2</td>\n",
       "      <td>...</td>\n",
       "      <td>5</td>\n",
       "      <td>8</td>\n",
       "      <td>2</td>\n",
       "      <td>2</td>\n",
       "      <td>2</td>\n",
       "      <td>3</td>\n",
       "      <td>2</td>\n",
       "      <td>6</td>\n",
       "      <td>36 to 50</td>\n",
       "      <td>Female</td>\n",
       "    </tr>\n",
       "    <tr>\n",
       "      <th>2</th>\n",
       "      <td>7/7/15</td>\n",
       "      <td>2</td>\n",
       "      <td>3</td>\n",
       "      <td>3</td>\n",
       "      <td>4</td>\n",
       "      <td>4</td>\n",
       "      <td>10</td>\n",
       "      <td>3</td>\n",
       "      <td>2</td>\n",
       "      <td>2</td>\n",
       "      <td>...</td>\n",
       "      <td>5</td>\n",
       "      <td>8</td>\n",
       "      <td>10</td>\n",
       "      <td>2</td>\n",
       "      <td>2</td>\n",
       "      <td>4</td>\n",
       "      <td>8</td>\n",
       "      <td>3</td>\n",
       "      <td>36 to 50</td>\n",
       "      <td>Female</td>\n",
       "    </tr>\n",
       "    <tr>\n",
       "      <th>3</th>\n",
       "      <td>7/7/15</td>\n",
       "      <td>3</td>\n",
       "      <td>3</td>\n",
       "      <td>10</td>\n",
       "      <td>3</td>\n",
       "      <td>10</td>\n",
       "      <td>7</td>\n",
       "      <td>2</td>\n",
       "      <td>5</td>\n",
       "      <td>2</td>\n",
       "      <td>...</td>\n",
       "      <td>0</td>\n",
       "      <td>5</td>\n",
       "      <td>7</td>\n",
       "      <td>5</td>\n",
       "      <td>1</td>\n",
       "      <td>5</td>\n",
       "      <td>2</td>\n",
       "      <td>0</td>\n",
       "      <td>51 or more</td>\n",
       "      <td>Female</td>\n",
       "    </tr>\n",
       "    <tr>\n",
       "      <th>4</th>\n",
       "      <td>7/7/15</td>\n",
       "      <td>5</td>\n",
       "      <td>1</td>\n",
       "      <td>3</td>\n",
       "      <td>3</td>\n",
       "      <td>10</td>\n",
       "      <td>4</td>\n",
       "      <td>2</td>\n",
       "      <td>4</td>\n",
       "      <td>2</td>\n",
       "      <td>...</td>\n",
       "      <td>0</td>\n",
       "      <td>7</td>\n",
       "      <td>0</td>\n",
       "      <td>0</td>\n",
       "      <td>2</td>\n",
       "      <td>8</td>\n",
       "      <td>1</td>\n",
       "      <td>5</td>\n",
       "      <td>51 or more</td>\n",
       "      <td>Female</td>\n",
       "    </tr>\n",
       "  </tbody>\n",
       "</table>\n",
       "<p>5 rows × 23 columns</p>\n",
       "</div>"
      ],
      "text/plain": [
       "  Timestamp  FRUITS_VEGGIES DAILY_STRESS  PLACES_VISITED  CORE_CIRCLE  \\\n",
       "0    7/7/15               3            2               2            5   \n",
       "1    7/7/15               2            3               4            3   \n",
       "2    7/7/15               2            3               3            4   \n",
       "3    7/7/15               3            3              10            3   \n",
       "4    7/7/15               5            1               3            3   \n",
       "\n",
       "   SUPPORTING_OTHERS  SOCIAL_NETWORK  ACHIEVEMENT  DONATION  BMI_RANGE  ...  \\\n",
       "0                  0               5            2         0          1  ...   \n",
       "1                  8              10            5         2          2  ...   \n",
       "2                  4              10            3         2          2  ...   \n",
       "3                 10               7            2         5          2  ...   \n",
       "4                 10               4            2         4          2  ...   \n",
       "\n",
       "   LIVE_VISION  SLEEP_HOURS  LOST_VACATION  DAILY_SHOUTING  SUFFICIENT_INCOME  \\\n",
       "0            0            7              5               5                  1   \n",
       "1            5            8              2               2                  2   \n",
       "2            5            8             10               2                  2   \n",
       "3            0            5              7               5                  1   \n",
       "4            0            7              0               0                  2   \n",
       "\n",
       "   PERSONAL_AWARDS  TIME_FOR_PASSION  DAILY_MEDITATION         AGE  GENDER  \n",
       "0                4                 0                 5    36 to 50  Female  \n",
       "1                3                 2                 6    36 to 50  Female  \n",
       "2                4                 8                 3    36 to 50  Female  \n",
       "3                5                 2                 0  51 or more  Female  \n",
       "4                8                 1                 5  51 or more  Female  \n",
       "\n",
       "[5 rows x 23 columns]"
      ]
     },
     "execution_count": 4,
     "metadata": {},
     "output_type": "execute_result"
    }
   ],
   "source": [
    "df.head()"
   ]
  },
  {
   "cell_type": "markdown",
   "id": "statistical-ireland",
   "metadata": {},
   "source": [
    "<b>Data Cleaning<b>"
   ]
  },
  {
   "cell_type": "code",
   "execution_count": 5,
   "id": "necessary-democrat",
   "metadata": {
    "scrolled": true
   },
   "outputs": [
    {
     "name": "stdout",
     "output_type": "stream",
     "text": [
      "<class 'pandas.core.frame.DataFrame'>\n",
      "RangeIndex: 12756 entries, 0 to 12755\n",
      "Data columns (total 23 columns):\n",
      " #   Column             Non-Null Count  Dtype \n",
      "---  ------             --------------  ----- \n",
      " 0   Timestamp          12756 non-null  object\n",
      " 1   FRUITS_VEGGIES     12756 non-null  int64 \n",
      " 2   DAILY_STRESS       12756 non-null  object\n",
      " 3   PLACES_VISITED     12756 non-null  int64 \n",
      " 4   CORE_CIRCLE        12756 non-null  int64 \n",
      " 5   SUPPORTING_OTHERS  12756 non-null  int64 \n",
      " 6   SOCIAL_NETWORK     12756 non-null  int64 \n",
      " 7   ACHIEVEMENT        12756 non-null  int64 \n",
      " 8   DONATION           12756 non-null  int64 \n",
      " 9   BMI_RANGE          12756 non-null  int64 \n",
      " 10  TODO_COMPLETED     12756 non-null  int64 \n",
      " 11  FLOW               12756 non-null  int64 \n",
      " 12  DAILY_STEPS        12756 non-null  int64 \n",
      " 13  LIVE_VISION        12756 non-null  int64 \n",
      " 14  SLEEP_HOURS        12756 non-null  int64 \n",
      " 15  LOST_VACATION      12756 non-null  int64 \n",
      " 16  DAILY_SHOUTING     12756 non-null  int64 \n",
      " 17  SUFFICIENT_INCOME  12756 non-null  int64 \n",
      " 18  PERSONAL_AWARDS    12756 non-null  int64 \n",
      " 19  TIME_FOR_PASSION   12756 non-null  int64 \n",
      " 20  DAILY_MEDITATION   12756 non-null  int64 \n",
      " 21  AGE                12756 non-null  object\n",
      " 22  GENDER             12756 non-null  object\n",
      "dtypes: int64(19), object(4)\n",
      "memory usage: 2.2+ MB\n"
     ]
    }
   ],
   "source": [
    "df.info()"
   ]
  },
  {
   "cell_type": "code",
   "execution_count": 6,
   "id": "careful-start",
   "metadata": {},
   "outputs": [],
   "source": [
    "df = df.drop(['Timestamp'],axis=1)"
   ]
  },
  {
   "cell_type": "code",
   "execution_count": 7,
   "id": "overhead-girlfriend",
   "metadata": {},
   "outputs": [
    {
     "name": "stdout",
     "output_type": "stream",
     "text": [
      "FRUITS_VEGGIES : [3 2 5 4 1 0]\n",
      "DAILY_STRESS : ['2' '3' '1' '4' '5' '0' '1/1/00']\n",
      "PLACES_VISITED : [ 2  4  3 10  5  6  7  0  8  1  9]\n",
      "CORE_CIRCLE : [ 5  3  4  9  6  7  8 10  2  1  0]\n",
      "SUPPORTING_OTHERS : [ 0  8  4 10  5  3  1  2  6  7  9]\n",
      "SOCIAL_NETWORK : [ 5 10  7  4  3  1  2  8  6  9  0]\n",
      "ACHIEVEMENT : [ 2  5  3  4  0  1  6 10  8  7  9]\n",
      "DONATION : [0 2 5 4 3 1]\n",
      "BMI_RANGE : [1 2]\n",
      "TODO_COMPLETED : [ 6  5  2  3  8 10  7  4  1  0  9]\n",
      "FLOW : [ 4  2  5  0  1  8  7  6  3 10  9]\n",
      "DAILY_STEPS : [ 5  4  7  8  1  3  6  2 10  9]\n",
      "LIVE_VISION : [ 0  5 10  4  2  1  6  3  8  9  7]\n",
      "SLEEP_HOURS : [ 7  8  5  6 10  9  4  3  2  1]\n",
      "LOST_VACATION : [ 5  2 10  7  0  3  1  4  8  6  9]\n",
      "DAILY_SHOUTING : [ 5  2  0  3  1  7  6  4 10  8  9]\n",
      "SUFFICIENT_INCOME : [1 2]\n",
      "PERSONAL_AWARDS : [ 4  3  5  8 10  1  2  7  6  0  9]\n",
      "TIME_FOR_PASSION : [ 0  2  8  1  3  6  5  4 10  9  7]\n",
      "DAILY_MEDITATION : [ 5  6  3  0 10  2  1  7  4  8  9]\n",
      "AGE : ['36 to 50' '51 or more' '21 to 35' 'Less than 20']\n",
      "GENDER : ['Female' 'Male']\n"
     ]
    }
   ],
   "source": [
    "for column in df:\n",
    "    print(f'{column} : {df[column].unique()}')"
   ]
  },
  {
   "cell_type": "code",
   "execution_count": 8,
   "id": "eight-programming",
   "metadata": {},
   "outputs": [
    {
     "data": {
      "text/html": [
       "<div>\n",
       "<style scoped>\n",
       "    .dataframe tbody tr th:only-of-type {\n",
       "        vertical-align: middle;\n",
       "    }\n",
       "\n",
       "    .dataframe tbody tr th {\n",
       "        vertical-align: top;\n",
       "    }\n",
       "\n",
       "    .dataframe thead th {\n",
       "        text-align: right;\n",
       "    }\n",
       "</style>\n",
       "<table border=\"1\" class=\"dataframe\">\n",
       "  <thead>\n",
       "    <tr style=\"text-align: right;\">\n",
       "      <th></th>\n",
       "      <th>FRUITS_VEGGIES</th>\n",
       "      <th>DAILY_STRESS</th>\n",
       "      <th>PLACES_VISITED</th>\n",
       "      <th>CORE_CIRCLE</th>\n",
       "      <th>SUPPORTING_OTHERS</th>\n",
       "      <th>SOCIAL_NETWORK</th>\n",
       "      <th>ACHIEVEMENT</th>\n",
       "      <th>DONATION</th>\n",
       "      <th>BMI_RANGE</th>\n",
       "      <th>TODO_COMPLETED</th>\n",
       "      <th>...</th>\n",
       "      <th>LIVE_VISION</th>\n",
       "      <th>SLEEP_HOURS</th>\n",
       "      <th>LOST_VACATION</th>\n",
       "      <th>DAILY_SHOUTING</th>\n",
       "      <th>SUFFICIENT_INCOME</th>\n",
       "      <th>PERSONAL_AWARDS</th>\n",
       "      <th>TIME_FOR_PASSION</th>\n",
       "      <th>DAILY_MEDITATION</th>\n",
       "      <th>AGE</th>\n",
       "      <th>GENDER</th>\n",
       "    </tr>\n",
       "  </thead>\n",
       "  <tbody>\n",
       "    <tr>\n",
       "      <th>10005</th>\n",
       "      <td>3</td>\n",
       "      <td>1/1/00</td>\n",
       "      <td>1</td>\n",
       "      <td>2</td>\n",
       "      <td>10</td>\n",
       "      <td>10</td>\n",
       "      <td>5</td>\n",
       "      <td>5</td>\n",
       "      <td>2</td>\n",
       "      <td>6</td>\n",
       "      <td>...</td>\n",
       "      <td>3</td>\n",
       "      <td>6</td>\n",
       "      <td>10</td>\n",
       "      <td>1</td>\n",
       "      <td>2</td>\n",
       "      <td>10</td>\n",
       "      <td>8</td>\n",
       "      <td>2</td>\n",
       "      <td>21 to 35</td>\n",
       "      <td>Male</td>\n",
       "    </tr>\n",
       "  </tbody>\n",
       "</table>\n",
       "<p>1 rows × 22 columns</p>\n",
       "</div>"
      ],
      "text/plain": [
       "       FRUITS_VEGGIES DAILY_STRESS  PLACES_VISITED  CORE_CIRCLE  \\\n",
       "10005               3       1/1/00               1            2   \n",
       "\n",
       "       SUPPORTING_OTHERS  SOCIAL_NETWORK  ACHIEVEMENT  DONATION  BMI_RANGE  \\\n",
       "10005                 10              10            5         5          2   \n",
       "\n",
       "       TODO_COMPLETED  ...  LIVE_VISION  SLEEP_HOURS  LOST_VACATION  \\\n",
       "10005               6  ...            3            6             10   \n",
       "\n",
       "       DAILY_SHOUTING  SUFFICIENT_INCOME  PERSONAL_AWARDS  TIME_FOR_PASSION  \\\n",
       "10005               1                  2               10                 8   \n",
       "\n",
       "       DAILY_MEDITATION       AGE  GENDER  \n",
       "10005                 2  21 to 35    Male  \n",
       "\n",
       "[1 rows x 22 columns]"
      ]
     },
     "execution_count": 8,
     "metadata": {},
     "output_type": "execute_result"
    }
   ],
   "source": [
    "df[df['DAILY_STRESS']=='1/1/00'] \n"
   ]
  },
  {
   "cell_type": "code",
   "execution_count": 9,
   "id": "derived-sleep",
   "metadata": {},
   "outputs": [],
   "source": [
    "df.drop(10005, inplace=True)\n"
   ]
  },
  {
   "cell_type": "code",
   "execution_count": 10,
   "id": "interesting-court",
   "metadata": {},
   "outputs": [],
   "source": [
    "num = pd.to_numeric(df['DAILY_STRESS'])\n",
    "df['DAILY_STRESS'] = num"
   ]
  },
  {
   "cell_type": "markdown",
   "id": "latter-globe",
   "metadata": {},
   "source": [
    "<b>Creating a new feature (target feature)<b>"
   ]
  },
  {
   "cell_type": "markdown",
   "id": "promotional-volleyball",
   "metadata": {},
   "source": [
    "Any stress level greater than median will be considered as excessive and thus unhealthy."
   ]
  },
  {
   "cell_type": "code",
   "execution_count": 11,
   "id": "cosmetic-underwear",
   "metadata": {},
   "outputs": [],
   "source": [
    "median_stress_level = df['DAILY_STRESS'].median()\n",
    "targets = np.where(df['DAILY_STRESS'] > median_stress_level, 1, 0)"
   ]
  },
  {
   "cell_type": "code",
   "execution_count": 12,
   "id": "stone-instruction",
   "metadata": {
    "scrolled": true
   },
   "outputs": [],
   "source": [
    "df['UNHEALTHY_STRESS'] = targets"
   ]
  },
  {
   "cell_type": "code",
   "execution_count": 13,
   "id": "antique-beverage",
   "metadata": {},
   "outputs": [],
   "source": [
    "data_with_targets = df.drop(['DAILY_STRESS'], axis=1)"
   ]
  },
  {
   "cell_type": "code",
   "execution_count": 14,
   "id": "lucky-lebanon",
   "metadata": {
    "scrolled": false
   },
   "outputs": [
    {
     "data": {
      "text/html": [
       "<div>\n",
       "<style scoped>\n",
       "    .dataframe tbody tr th:only-of-type {\n",
       "        vertical-align: middle;\n",
       "    }\n",
       "\n",
       "    .dataframe tbody tr th {\n",
       "        vertical-align: top;\n",
       "    }\n",
       "\n",
       "    .dataframe thead th {\n",
       "        text-align: right;\n",
       "    }\n",
       "</style>\n",
       "<table border=\"1\" class=\"dataframe\">\n",
       "  <thead>\n",
       "    <tr style=\"text-align: right;\">\n",
       "      <th></th>\n",
       "      <th>FRUITS_VEGGIES</th>\n",
       "      <th>PLACES_VISITED</th>\n",
       "      <th>CORE_CIRCLE</th>\n",
       "      <th>SUPPORTING_OTHERS</th>\n",
       "      <th>SOCIAL_NETWORK</th>\n",
       "      <th>ACHIEVEMENT</th>\n",
       "      <th>DONATION</th>\n",
       "      <th>BMI_RANGE</th>\n",
       "      <th>TODO_COMPLETED</th>\n",
       "      <th>FLOW</th>\n",
       "      <th>...</th>\n",
       "      <th>SLEEP_HOURS</th>\n",
       "      <th>LOST_VACATION</th>\n",
       "      <th>DAILY_SHOUTING</th>\n",
       "      <th>SUFFICIENT_INCOME</th>\n",
       "      <th>PERSONAL_AWARDS</th>\n",
       "      <th>TIME_FOR_PASSION</th>\n",
       "      <th>DAILY_MEDITATION</th>\n",
       "      <th>AGE</th>\n",
       "      <th>GENDER</th>\n",
       "      <th>UNHEALTHY_STRESS</th>\n",
       "    </tr>\n",
       "  </thead>\n",
       "  <tbody>\n",
       "    <tr>\n",
       "      <th>0</th>\n",
       "      <td>3</td>\n",
       "      <td>2</td>\n",
       "      <td>5</td>\n",
       "      <td>0</td>\n",
       "      <td>5</td>\n",
       "      <td>2</td>\n",
       "      <td>0</td>\n",
       "      <td>1</td>\n",
       "      <td>6</td>\n",
       "      <td>4</td>\n",
       "      <td>...</td>\n",
       "      <td>7</td>\n",
       "      <td>5</td>\n",
       "      <td>5</td>\n",
       "      <td>1</td>\n",
       "      <td>4</td>\n",
       "      <td>0</td>\n",
       "      <td>5</td>\n",
       "      <td>36 to 50</td>\n",
       "      <td>Female</td>\n",
       "      <td>0</td>\n",
       "    </tr>\n",
       "    <tr>\n",
       "      <th>1</th>\n",
       "      <td>2</td>\n",
       "      <td>4</td>\n",
       "      <td>3</td>\n",
       "      <td>8</td>\n",
       "      <td>10</td>\n",
       "      <td>5</td>\n",
       "      <td>2</td>\n",
       "      <td>2</td>\n",
       "      <td>5</td>\n",
       "      <td>2</td>\n",
       "      <td>...</td>\n",
       "      <td>8</td>\n",
       "      <td>2</td>\n",
       "      <td>2</td>\n",
       "      <td>2</td>\n",
       "      <td>3</td>\n",
       "      <td>2</td>\n",
       "      <td>6</td>\n",
       "      <td>36 to 50</td>\n",
       "      <td>Female</td>\n",
       "      <td>0</td>\n",
       "    </tr>\n",
       "    <tr>\n",
       "      <th>2</th>\n",
       "      <td>2</td>\n",
       "      <td>3</td>\n",
       "      <td>4</td>\n",
       "      <td>4</td>\n",
       "      <td>10</td>\n",
       "      <td>3</td>\n",
       "      <td>2</td>\n",
       "      <td>2</td>\n",
       "      <td>2</td>\n",
       "      <td>2</td>\n",
       "      <td>...</td>\n",
       "      <td>8</td>\n",
       "      <td>10</td>\n",
       "      <td>2</td>\n",
       "      <td>2</td>\n",
       "      <td>4</td>\n",
       "      <td>8</td>\n",
       "      <td>3</td>\n",
       "      <td>36 to 50</td>\n",
       "      <td>Female</td>\n",
       "      <td>0</td>\n",
       "    </tr>\n",
       "    <tr>\n",
       "      <th>3</th>\n",
       "      <td>3</td>\n",
       "      <td>10</td>\n",
       "      <td>3</td>\n",
       "      <td>10</td>\n",
       "      <td>7</td>\n",
       "      <td>2</td>\n",
       "      <td>5</td>\n",
       "      <td>2</td>\n",
       "      <td>3</td>\n",
       "      <td>5</td>\n",
       "      <td>...</td>\n",
       "      <td>5</td>\n",
       "      <td>7</td>\n",
       "      <td>5</td>\n",
       "      <td>1</td>\n",
       "      <td>5</td>\n",
       "      <td>2</td>\n",
       "      <td>0</td>\n",
       "      <td>51 or more</td>\n",
       "      <td>Female</td>\n",
       "      <td>0</td>\n",
       "    </tr>\n",
       "    <tr>\n",
       "      <th>4</th>\n",
       "      <td>5</td>\n",
       "      <td>3</td>\n",
       "      <td>3</td>\n",
       "      <td>10</td>\n",
       "      <td>4</td>\n",
       "      <td>2</td>\n",
       "      <td>4</td>\n",
       "      <td>2</td>\n",
       "      <td>5</td>\n",
       "      <td>0</td>\n",
       "      <td>...</td>\n",
       "      <td>7</td>\n",
       "      <td>0</td>\n",
       "      <td>0</td>\n",
       "      <td>2</td>\n",
       "      <td>8</td>\n",
       "      <td>1</td>\n",
       "      <td>5</td>\n",
       "      <td>51 or more</td>\n",
       "      <td>Female</td>\n",
       "      <td>0</td>\n",
       "    </tr>\n",
       "  </tbody>\n",
       "</table>\n",
       "<p>5 rows × 22 columns</p>\n",
       "</div>"
      ],
      "text/plain": [
       "   FRUITS_VEGGIES  PLACES_VISITED  CORE_CIRCLE  SUPPORTING_OTHERS  \\\n",
       "0               3               2            5                  0   \n",
       "1               2               4            3                  8   \n",
       "2               2               3            4                  4   \n",
       "3               3              10            3                 10   \n",
       "4               5               3            3                 10   \n",
       "\n",
       "   SOCIAL_NETWORK  ACHIEVEMENT  DONATION  BMI_RANGE  TODO_COMPLETED  FLOW  \\\n",
       "0               5            2         0          1               6     4   \n",
       "1              10            5         2          2               5     2   \n",
       "2              10            3         2          2               2     2   \n",
       "3               7            2         5          2               3     5   \n",
       "4               4            2         4          2               5     0   \n",
       "\n",
       "   ...  SLEEP_HOURS  LOST_VACATION  DAILY_SHOUTING  SUFFICIENT_INCOME  \\\n",
       "0  ...            7              5               5                  1   \n",
       "1  ...            8              2               2                  2   \n",
       "2  ...            8             10               2                  2   \n",
       "3  ...            5              7               5                  1   \n",
       "4  ...            7              0               0                  2   \n",
       "\n",
       "   PERSONAL_AWARDS  TIME_FOR_PASSION  DAILY_MEDITATION         AGE  GENDER  \\\n",
       "0                4                 0                 5    36 to 50  Female   \n",
       "1                3                 2                 6    36 to 50  Female   \n",
       "2                4                 8                 3    36 to 50  Female   \n",
       "3                5                 2                 0  51 or more  Female   \n",
       "4                8                 1                 5  51 or more  Female   \n",
       "\n",
       "  UNHEALTHY_STRESS  \n",
       "0                0  \n",
       "1                0  \n",
       "2                0  \n",
       "3                0  \n",
       "4                0  \n",
       "\n",
       "[5 rows x 22 columns]"
      ]
     },
     "execution_count": 14,
     "metadata": {},
     "output_type": "execute_result"
    }
   ],
   "source": [
    "data_with_targets.head()"
   ]
  },
  {
   "cell_type": "markdown",
   "id": "complex-inflation",
   "metadata": {},
   "source": [
    "<b>Exploratory Data Analysis<b>"
   ]
  },
  {
   "cell_type": "code",
   "execution_count": 15,
   "id": "corporate-newton",
   "metadata": {
    "scrolled": false
   },
   "outputs": [
    {
     "data": {
      "text/plain": [
       "<AxesSubplot:xlabel='UNHEALTHY_STRESS', ylabel='count'>"
      ]
     },
     "execution_count": 15,
     "metadata": {},
     "output_type": "execute_result"
    },
    {
     "data": {
      "image/png": "[encoded data removed]",
      "text/plain": [
       "<Figure size 432x288 with 1 Axes>"
      ]
     },
     "metadata": {},
     "output_type": "display_data"
    }
   ],
   "source": [
    "sns.set_style('whitegrid')\n",
    "sns.countplot(x='UNHEALTHY_STRESS', data = data_with_targets)"
   ]
  },
  {
   "cell_type": "markdown",
   "id": "industrial-spyware",
   "metadata": {},
   "source": [
    "Majority of peaople in our dataset didn't experience unhealthy stress"
   ]
  },
  {
   "cell_type": "code",
   "execution_count": 16,
   "id": "potential-tooth",
   "metadata": {},
   "outputs": [
    {
     "data": {
      "text/plain": [
       "<AxesSubplot:xlabel='UNHEALTHY_STRESS', ylabel='count'>"
      ]
     },
     "execution_count": 16,
     "metadata": {},
     "output_type": "execute_result"
    },
    {
     "data": {
      "image/png": "[encoded data removed]",
      "text/plain": [
       "<Figure size 432x288 with 1 Axes>"
      ]
     },
     "metadata": {},
     "output_type": "display_data"
    }
   ],
   "source": [
    "sns.set_style('whitegrid')\n",
    "sns.countplot(x='UNHEALTHY_STRESS', hue = 'GENDER', data = data_with_targets, palette='RdBu_r')"
   ]
  },
  {
   "cell_type": "markdown",
   "id": "political-astronomy",
   "metadata": {},
   "source": [
    "More Females than males are exposed to excessive stress"
   ]
  },
  {
   "cell_type": "code",
   "execution_count": 17,
   "id": "legal-freeware",
   "metadata": {},
   "outputs": [
    {
     "data": {
      "text/plain": [
       "3963"
      ]
     },
     "execution_count": 17,
     "metadata": {},
     "output_type": "execute_result"
    }
   ],
   "source": [
    "data_with_targets['UNHEALTHY_STRESS'].sum()"
   ]
  },
  {
   "cell_type": "code",
   "execution_count": 18,
   "id": "gross-guest",
   "metadata": {},
   "outputs": [
    {
     "data": {
      "text/plain": [
       "12755"
      ]
     },
     "execution_count": 18,
     "metadata": {},
     "output_type": "execute_result"
    }
   ],
   "source": [
    "data_with_targets['UNHEALTHY_STRESS'].shape[0]"
   ]
  },
  {
   "cell_type": "code",
   "execution_count": 19,
   "id": "utility-spare",
   "metadata": {},
   "outputs": [
    {
     "data": {
      "text/plain": [
       "0.31070168561348493"
      ]
     },
     "execution_count": 19,
     "metadata": {},
     "output_type": "execute_result"
    }
   ],
   "source": [
    "df['UNHEALTHY_STRESS'].sum()/df['UNHEALTHY_STRESS'].shape[0]"
   ]
  },
  {
   "cell_type": "markdown",
   "id": "certified-draft",
   "metadata": {},
   "source": [
    "Our dataset is imbalanced."
   ]
  },
  {
   "cell_type": "code",
   "execution_count": 20,
   "id": "adjacent-economy",
   "metadata": {},
   "outputs": [],
   "source": [
    "pd.options.display.max_rows = None\n",
    "pd.options.display.max_columns = None"
   ]
  },
  {
   "cell_type": "code",
   "execution_count": 21,
   "id": "mounted-calculation",
   "metadata": {},
   "outputs": [
    {
     "data": {
      "text/html": [
       "<div>\n",
       "<style scoped>\n",
       "    .dataframe tbody tr th:only-of-type {\n",
       "        vertical-align: middle;\n",
       "    }\n",
       "\n",
       "    .dataframe tbody tr th {\n",
       "        vertical-align: top;\n",
       "    }\n",
       "\n",
       "    .dataframe thead th {\n",
       "        text-align: right;\n",
       "    }\n",
       "</style>\n",
       "<table border=\"1\" class=\"dataframe\">\n",
       "  <thead>\n",
       "    <tr style=\"text-align: right;\">\n",
       "      <th></th>\n",
       "      <th>FRUITS_VEGGIES</th>\n",
       "      <th>PLACES_VISITED</th>\n",
       "      <th>CORE_CIRCLE</th>\n",
       "      <th>SUPPORTING_OTHERS</th>\n",
       "      <th>SOCIAL_NETWORK</th>\n",
       "      <th>ACHIEVEMENT</th>\n",
       "      <th>DONATION</th>\n",
       "      <th>BMI_RANGE</th>\n",
       "      <th>TODO_COMPLETED</th>\n",
       "      <th>FLOW</th>\n",
       "      <th>DAILY_STEPS</th>\n",
       "      <th>LIVE_VISION</th>\n",
       "      <th>SLEEP_HOURS</th>\n",
       "      <th>LOST_VACATION</th>\n",
       "      <th>DAILY_SHOUTING</th>\n",
       "      <th>SUFFICIENT_INCOME</th>\n",
       "      <th>PERSONAL_AWARDS</th>\n",
       "      <th>TIME_FOR_PASSION</th>\n",
       "      <th>DAILY_MEDITATION</th>\n",
       "      <th>AGE</th>\n",
       "      <th>GENDER</th>\n",
       "      <th>UNHEALTHY_STRESS</th>\n",
       "    </tr>\n",
       "  </thead>\n",
       "  <tbody>\n",
       "    <tr>\n",
       "      <th>0</th>\n",
       "      <td>3</td>\n",
       "      <td>2</td>\n",
       "      <td>5</td>\n",
       "      <td>0</td>\n",
       "      <td>5</td>\n",
       "      <td>2</td>\n",
       "      <td>0</td>\n",
       "      <td>1</td>\n",
       "      <td>6</td>\n",
       "      <td>4</td>\n",
       "      <td>5</td>\n",
       "      <td>0</td>\n",
       "      <td>7</td>\n",
       "      <td>5</td>\n",
       "      <td>5</td>\n",
       "      <td>1</td>\n",
       "      <td>4</td>\n",
       "      <td>0</td>\n",
       "      <td>5</td>\n",
       "      <td>36 to 50</td>\n",
       "      <td>Female</td>\n",
       "      <td>0</td>\n",
       "    </tr>\n",
       "    <tr>\n",
       "      <th>1</th>\n",
       "      <td>2</td>\n",
       "      <td>4</td>\n",
       "      <td>3</td>\n",
       "      <td>8</td>\n",
       "      <td>10</td>\n",
       "      <td>5</td>\n",
       "      <td>2</td>\n",
       "      <td>2</td>\n",
       "      <td>5</td>\n",
       "      <td>2</td>\n",
       "      <td>5</td>\n",
       "      <td>5</td>\n",
       "      <td>8</td>\n",
       "      <td>2</td>\n",
       "      <td>2</td>\n",
       "      <td>2</td>\n",
       "      <td>3</td>\n",
       "      <td>2</td>\n",
       "      <td>6</td>\n",
       "      <td>36 to 50</td>\n",
       "      <td>Female</td>\n",
       "      <td>0</td>\n",
       "    </tr>\n",
       "    <tr>\n",
       "      <th>2</th>\n",
       "      <td>2</td>\n",
       "      <td>3</td>\n",
       "      <td>4</td>\n",
       "      <td>4</td>\n",
       "      <td>10</td>\n",
       "      <td>3</td>\n",
       "      <td>2</td>\n",
       "      <td>2</td>\n",
       "      <td>2</td>\n",
       "      <td>2</td>\n",
       "      <td>4</td>\n",
       "      <td>5</td>\n",
       "      <td>8</td>\n",
       "      <td>10</td>\n",
       "      <td>2</td>\n",
       "      <td>2</td>\n",
       "      <td>4</td>\n",
       "      <td>8</td>\n",
       "      <td>3</td>\n",
       "      <td>36 to 50</td>\n",
       "      <td>Female</td>\n",
       "      <td>0</td>\n",
       "    </tr>\n",
       "    <tr>\n",
       "      <th>3</th>\n",
       "      <td>3</td>\n",
       "      <td>10</td>\n",
       "      <td>3</td>\n",
       "      <td>10</td>\n",
       "      <td>7</td>\n",
       "      <td>2</td>\n",
       "      <td>5</td>\n",
       "      <td>2</td>\n",
       "      <td>3</td>\n",
       "      <td>5</td>\n",
       "      <td>5</td>\n",
       "      <td>0</td>\n",
       "      <td>5</td>\n",
       "      <td>7</td>\n",
       "      <td>5</td>\n",
       "      <td>1</td>\n",
       "      <td>5</td>\n",
       "      <td>2</td>\n",
       "      <td>0</td>\n",
       "      <td>51 or more</td>\n",
       "      <td>Female</td>\n",
       "      <td>0</td>\n",
       "    </tr>\n",
       "    <tr>\n",
       "      <th>4</th>\n",
       "      <td>5</td>\n",
       "      <td>3</td>\n",
       "      <td>3</td>\n",
       "      <td>10</td>\n",
       "      <td>4</td>\n",
       "      <td>2</td>\n",
       "      <td>4</td>\n",
       "      <td>2</td>\n",
       "      <td>5</td>\n",
       "      <td>0</td>\n",
       "      <td>5</td>\n",
       "      <td>0</td>\n",
       "      <td>7</td>\n",
       "      <td>0</td>\n",
       "      <td>0</td>\n",
       "      <td>2</td>\n",
       "      <td>8</td>\n",
       "      <td>1</td>\n",
       "      <td>5</td>\n",
       "      <td>51 or more</td>\n",
       "      <td>Female</td>\n",
       "      <td>0</td>\n",
       "    </tr>\n",
       "  </tbody>\n",
       "</table>\n",
       "</div>"
      ],
      "text/plain": [
       "   FRUITS_VEGGIES  PLACES_VISITED  CORE_CIRCLE  SUPPORTING_OTHERS  \\\n",
       "0               3               2            5                  0   \n",
       "1               2               4            3                  8   \n",
       "2               2               3            4                  4   \n",
       "3               3              10            3                 10   \n",
       "4               5               3            3                 10   \n",
       "\n",
       "   SOCIAL_NETWORK  ACHIEVEMENT  DONATION  BMI_RANGE  TODO_COMPLETED  FLOW  \\\n",
       "0               5            2         0          1               6     4   \n",
       "1              10            5         2          2               5     2   \n",
       "2              10            3         2          2               2     2   \n",
       "3               7            2         5          2               3     5   \n",
       "4               4            2         4          2               5     0   \n",
       "\n",
       "   DAILY_STEPS  LIVE_VISION  SLEEP_HOURS  LOST_VACATION  DAILY_SHOUTING  \\\n",
       "0            5            0            7              5               5   \n",
       "1            5            5            8              2               2   \n",
       "2            4            5            8             10               2   \n",
       "3            5            0            5              7               5   \n",
       "4            5            0            7              0               0   \n",
       "\n",
       "   SUFFICIENT_INCOME  PERSONAL_AWARDS  TIME_FOR_PASSION  DAILY_MEDITATION  \\\n",
       "0                  1                4                 0                 5   \n",
       "1                  2                3                 2                 6   \n",
       "2                  2                4                 8                 3   \n",
       "3                  1                5                 2                 0   \n",
       "4                  2                8                 1                 5   \n",
       "\n",
       "          AGE  GENDER  UNHEALTHY_STRESS  \n",
       "0    36 to 50  Female                 0  \n",
       "1    36 to 50  Female                 0  \n",
       "2    36 to 50  Female                 0  \n",
       "3  51 or more  Female                 0  \n",
       "4  51 or more  Female                 0  "
      ]
     },
     "metadata": {},
     "output_type": "display_data"
    }
   ],
   "source": [
    "display(data_with_targets.head())"
   ]
  },
  {
   "cell_type": "markdown",
   "id": "legitimate-trading",
   "metadata": {},
   "source": [
    "<b>Handling categorical features<b>"
   ]
  },
  {
   "cell_type": "code",
   "execution_count": 22,
   "id": "adaptive-investigation",
   "metadata": {},
   "outputs": [
    {
     "data": {
      "text/plain": [
       "Index(['FRUITS_VEGGIES', 'PLACES_VISITED', 'CORE_CIRCLE', 'SUPPORTING_OTHERS',\n",
       "       'SOCIAL_NETWORK', 'ACHIEVEMENT', 'DONATION', 'BMI_RANGE',\n",
       "       'TODO_COMPLETED', 'FLOW', 'DAILY_STEPS', 'LIVE_VISION', 'SLEEP_HOURS',\n",
       "       'LOST_VACATION', 'DAILY_SHOUTING', 'PERSONAL_AWARDS',\n",
       "       'TIME_FOR_PASSION', 'DAILY_MEDITATION', 'AGE', 'UNHEALTHY_STRESS',\n",
       "       'GENDER_Male', 'SUFFICIENT_INCOME_2'],\n",
       "      dtype='object')"
      ]
     },
     "execution_count": 22,
     "metadata": {},
     "output_type": "execute_result"
    }
   ],
   "source": [
    "df2 = pd.get_dummies(data = data_with_targets, columns = ['GENDER', 'SUFFICIENT_INCOME'], drop_first = True)\n",
    "df2.columns"
   ]
  },
  {
   "cell_type": "code",
   "execution_count": 23,
   "id": "pretty-clinton",
   "metadata": {},
   "outputs": [
    {
     "data": {
      "text/plain": [
       "array(['36 to 50', '51 or more', '21 to 35', 'Less than 20'], dtype=object)"
      ]
     },
     "execution_count": 23,
     "metadata": {},
     "output_type": "execute_result"
    }
   ],
   "source": [
    "df2['AGE'].unique()"
   ]
  },
  {
   "cell_type": "code",
   "execution_count": 24,
   "id": "novel-reward",
   "metadata": {},
   "outputs": [],
   "source": [
    "df2['AGE'] = df2['AGE'].map({'Less than 20':1, '21 to 35':2, '36 to 50':3, '51 or more':4})"
   ]
  },
  {
   "cell_type": "code",
   "execution_count": 25,
   "id": "every-pound",
   "metadata": {},
   "outputs": [
    {
     "data": {
      "text/html": [
       "<div>\n",
       "<style scoped>\n",
       "    .dataframe tbody tr th:only-of-type {\n",
       "        vertical-align: middle;\n",
       "    }\n",
       "\n",
       "    .dataframe tbody tr th {\n",
       "        vertical-align: top;\n",
       "    }\n",
       "\n",
       "    .dataframe thead th {\n",
       "        text-align: right;\n",
       "    }\n",
       "</style>\n",
       "<table border=\"1\" class=\"dataframe\">\n",
       "  <thead>\n",
       "    <tr style=\"text-align: right;\">\n",
       "      <th></th>\n",
       "      <th>FRUITS_VEGGIES</th>\n",
       "      <th>PLACES_VISITED</th>\n",
       "      <th>CORE_CIRCLE</th>\n",
       "      <th>SUPPORTING_OTHERS</th>\n",
       "      <th>SOCIAL_NETWORK</th>\n",
       "      <th>ACHIEVEMENT</th>\n",
       "      <th>DONATION</th>\n",
       "      <th>BMI_RANGE</th>\n",
       "      <th>TODO_COMPLETED</th>\n",
       "      <th>FLOW</th>\n",
       "      <th>DAILY_STEPS</th>\n",
       "      <th>LIVE_VISION</th>\n",
       "      <th>SLEEP_HOURS</th>\n",
       "      <th>LOST_VACATION</th>\n",
       "      <th>DAILY_SHOUTING</th>\n",
       "      <th>PERSONAL_AWARDS</th>\n",
       "      <th>TIME_FOR_PASSION</th>\n",
       "      <th>DAILY_MEDITATION</th>\n",
       "      <th>AGE</th>\n",
       "      <th>UNHEALTHY_STRESS</th>\n",
       "      <th>GENDER_Male</th>\n",
       "      <th>SUFFICIENT_INCOME_2</th>\n",
       "    </tr>\n",
       "  </thead>\n",
       "  <tbody>\n",
       "    <tr>\n",
       "      <th>0</th>\n",
       "      <td>3</td>\n",
       "      <td>2</td>\n",
       "      <td>5</td>\n",
       "      <td>0</td>\n",
       "      <td>5</td>\n",
       "      <td>2</td>\n",
       "      <td>0</td>\n",
       "      <td>1</td>\n",
       "      <td>6</td>\n",
       "      <td>4</td>\n",
       "      <td>5</td>\n",
       "      <td>0</td>\n",
       "      <td>7</td>\n",
       "      <td>5</td>\n",
       "      <td>5</td>\n",
       "      <td>4</td>\n",
       "      <td>0</td>\n",
       "      <td>5</td>\n",
       "      <td>3</td>\n",
       "      <td>0</td>\n",
       "      <td>0</td>\n",
       "      <td>0</td>\n",
       "    </tr>\n",
       "    <tr>\n",
       "      <th>1</th>\n",
       "      <td>2</td>\n",
       "      <td>4</td>\n",
       "      <td>3</td>\n",
       "      <td>8</td>\n",
       "      <td>10</td>\n",
       "      <td>5</td>\n",
       "      <td>2</td>\n",
       "      <td>2</td>\n",
       "      <td>5</td>\n",
       "      <td>2</td>\n",
       "      <td>5</td>\n",
       "      <td>5</td>\n",
       "      <td>8</td>\n",
       "      <td>2</td>\n",
       "      <td>2</td>\n",
       "      <td>3</td>\n",
       "      <td>2</td>\n",
       "      <td>6</td>\n",
       "      <td>3</td>\n",
       "      <td>0</td>\n",
       "      <td>0</td>\n",
       "      <td>1</td>\n",
       "    </tr>\n",
       "    <tr>\n",
       "      <th>2</th>\n",
       "      <td>2</td>\n",
       "      <td>3</td>\n",
       "      <td>4</td>\n",
       "      <td>4</td>\n",
       "      <td>10</td>\n",
       "      <td>3</td>\n",
       "      <td>2</td>\n",
       "      <td>2</td>\n",
       "      <td>2</td>\n",
       "      <td>2</td>\n",
       "      <td>4</td>\n",
       "      <td>5</td>\n",
       "      <td>8</td>\n",
       "      <td>10</td>\n",
       "      <td>2</td>\n",
       "      <td>4</td>\n",
       "      <td>8</td>\n",
       "      <td>3</td>\n",
       "      <td>3</td>\n",
       "      <td>0</td>\n",
       "      <td>0</td>\n",
       "      <td>1</td>\n",
       "    </tr>\n",
       "    <tr>\n",
       "      <th>3</th>\n",
       "      <td>3</td>\n",
       "      <td>10</td>\n",
       "      <td>3</td>\n",
       "      <td>10</td>\n",
       "      <td>7</td>\n",
       "      <td>2</td>\n",
       "      <td>5</td>\n",
       "      <td>2</td>\n",
       "      <td>3</td>\n",
       "      <td>5</td>\n",
       "      <td>5</td>\n",
       "      <td>0</td>\n",
       "      <td>5</td>\n",
       "      <td>7</td>\n",
       "      <td>5</td>\n",
       "      <td>5</td>\n",
       "      <td>2</td>\n",
       "      <td>0</td>\n",
       "      <td>4</td>\n",
       "      <td>0</td>\n",
       "      <td>0</td>\n",
       "      <td>0</td>\n",
       "    </tr>\n",
       "    <tr>\n",
       "      <th>4</th>\n",
       "      <td>5</td>\n",
       "      <td>3</td>\n",
       "      <td>3</td>\n",
       "      <td>10</td>\n",
       "      <td>4</td>\n",
       "      <td>2</td>\n",
       "      <td>4</td>\n",
       "      <td>2</td>\n",
       "      <td>5</td>\n",
       "      <td>0</td>\n",
       "      <td>5</td>\n",
       "      <td>0</td>\n",
       "      <td>7</td>\n",
       "      <td>0</td>\n",
       "      <td>0</td>\n",
       "      <td>8</td>\n",
       "      <td>1</td>\n",
       "      <td>5</td>\n",
       "      <td>4</td>\n",
       "      <td>0</td>\n",
       "      <td>0</td>\n",
       "      <td>1</td>\n",
       "    </tr>\n",
       "  </tbody>\n",
       "</table>\n",
       "</div>"
      ],
      "text/plain": [
       "   FRUITS_VEGGIES  PLACES_VISITED  CORE_CIRCLE  SUPPORTING_OTHERS  \\\n",
       "0               3               2            5                  0   \n",
       "1               2               4            3                  8   \n",
       "2               2               3            4                  4   \n",
       "3               3              10            3                 10   \n",
       "4               5               3            3                 10   \n",
       "\n",
       "   SOCIAL_NETWORK  ACHIEVEMENT  DONATION  BMI_RANGE  TODO_COMPLETED  FLOW  \\\n",
       "0               5            2         0          1               6     4   \n",
       "1              10            5         2          2               5     2   \n",
       "2              10            3         2          2               2     2   \n",
       "3               7            2         5          2               3     5   \n",
       "4               4            2         4          2               5     0   \n",
       "\n",
       "   DAILY_STEPS  LIVE_VISION  SLEEP_HOURS  LOST_VACATION  DAILY_SHOUTING  \\\n",
       "0            5            0            7              5               5   \n",
       "1            5            5            8              2               2   \n",
       "2            4            5            8             10               2   \n",
       "3            5            0            5              7               5   \n",
       "4            5            0            7              0               0   \n",
       "\n",
       "   PERSONAL_AWARDS  TIME_FOR_PASSION  DAILY_MEDITATION  AGE  UNHEALTHY_STRESS  \\\n",
       "0                4                 0                 5    3                 0   \n",
       "1                3                 2                 6    3                 0   \n",
       "2                4                 8                 3    3                 0   \n",
       "3                5                 2                 0    4                 0   \n",
       "4                8                 1                 5    4                 0   \n",
       "\n",
       "   GENDER_Male  SUFFICIENT_INCOME_2  \n",
       "0            0                    0  \n",
       "1            0                    1  \n",
       "2            0                    1  \n",
       "3            0                    0  \n",
       "4            0                    1  "
      ]
     },
     "execution_count": 25,
     "metadata": {},
     "output_type": "execute_result"
    }
   ],
   "source": [
    "df2.head()"
   ]
  },
  {
   "cell_type": "code",
   "execution_count": 26,
   "id": "nominated-arabic",
   "metadata": {},
   "outputs": [
    {
     "data": {
      "text/plain": [
       "array(['FRUITS_VEGGIES', 'PLACES_VISITED', 'CORE_CIRCLE',\n",
       "       'SUPPORTING_OTHERS', 'SOCIAL_NETWORK', 'ACHIEVEMENT', 'DONATION',\n",
       "       'BMI_RANGE', 'TODO_COMPLETED', 'FLOW', 'DAILY_STEPS',\n",
       "       'LIVE_VISION', 'SLEEP_HOURS', 'LOST_VACATION', 'DAILY_SHOUTING',\n",
       "       'PERSONAL_AWARDS', 'TIME_FOR_PASSION', 'DAILY_MEDITATION', 'AGE',\n",
       "       'UNHEALTHY_STRESS', 'GENDER_Male', 'SUFFICIENT_INCOME_2'],\n",
       "      dtype=object)"
      ]
     },
     "execution_count": 26,
     "metadata": {},
     "output_type": "execute_result"
    }
   ],
   "source": [
    "df2.columns.values"
   ]
  },
  {
   "cell_type": "code",
   "execution_count": 27,
   "id": "worth-trigger",
   "metadata": {},
   "outputs": [],
   "source": [
    "df2.columns = ['FRUITS_VEGGIES', 'PLACES_VISITED', 'CORE_CIRCLE',\n",
    "       'SUPPORTING_OTHERS', 'SOCIAL_NETWORK', 'ACHIEVEMENT', 'DONATION',\n",
    "       'BMI_RANGE', 'TODO_COMPLETED', 'FLOW', 'DAILY_STEPS',\n",
    "       'LIVE_VISION', 'SLEEP_HOURS', 'LOST_VACATION', 'DAILY_SHOUTING',\n",
    "       'PERSONAL_AWARDS', 'TIME_FOR_PASSION', 'DAILY_MEDITATION', 'AGE',\n",
    "       'UNHEALTHY_STRESS', 'MALE', 'SUFFICIENT_INCOME']"
   ]
  },
  {
   "cell_type": "code",
   "execution_count": 28,
   "id": "chubby-workstation",
   "metadata": {},
   "outputs": [],
   "source": [
    "cols_to_scale = ['FRUITS_VEGGIES', 'PLACES_VISITED', 'CORE_CIRCLE',\n",
    "       'SUPPORTING_OTHERS', 'SOCIAL_NETWORK', 'ACHIEVEMENT', 'DONATION',\n",
    "        'TODO_COMPLETED', 'FLOW', 'DAILY_STEPS',\n",
    "       'LIVE_VISION', 'SLEEP_HOURS', 'LOST_VACATION', 'DAILY_SHOUTING',\n",
    "       'PERSONAL_AWARDS', 'TIME_FOR_PASSION', 'DAILY_MEDITATION']"
   ]
  },
  {
   "cell_type": "markdown",
   "id": "inside-restriction",
   "metadata": {},
   "source": [
    "<b>Feature Scaling<b>"
   ]
  },
  {
   "cell_type": "code",
   "execution_count": 29,
   "id": "another-packaging",
   "metadata": {},
   "outputs": [],
   "source": [
    "from sklearn.preprocessing import StandardScaler\n",
    "scaler = StandardScaler()\n",
    "df2[cols_to_scale] = scaler.fit_transform(df2[cols_to_scale])"
   ]
  },
  {
   "cell_type": "code",
   "execution_count": 30,
   "id": "elder-poker",
   "metadata": {
    "scrolled": true
   },
   "outputs": [
    {
     "data": {
      "text/html": [
       "<div>\n",
       "<style scoped>\n",
       "    .dataframe tbody tr th:only-of-type {\n",
       "        vertical-align: middle;\n",
       "    }\n",
       "\n",
       "    .dataframe tbody tr th {\n",
       "        vertical-align: top;\n",
       "    }\n",
       "\n",
       "    .dataframe thead th {\n",
       "        text-align: right;\n",
       "    }\n",
       "</style>\n",
       "<table border=\"1\" class=\"dataframe\">\n",
       "  <thead>\n",
       "    <tr style=\"text-align: right;\">\n",
       "      <th></th>\n",
       "      <th>FRUITS_VEGGIES</th>\n",
       "      <th>PLACES_VISITED</th>\n",
       "      <th>CORE_CIRCLE</th>\n",
       "      <th>SUPPORTING_OTHERS</th>\n",
       "      <th>SOCIAL_NETWORK</th>\n",
       "      <th>ACHIEVEMENT</th>\n",
       "      <th>DONATION</th>\n",
       "      <th>BMI_RANGE</th>\n",
       "      <th>TODO_COMPLETED</th>\n",
       "      <th>FLOW</th>\n",
       "      <th>DAILY_STEPS</th>\n",
       "      <th>LIVE_VISION</th>\n",
       "      <th>SLEEP_HOURS</th>\n",
       "      <th>LOST_VACATION</th>\n",
       "      <th>DAILY_SHOUTING</th>\n",
       "      <th>PERSONAL_AWARDS</th>\n",
       "      <th>TIME_FOR_PASSION</th>\n",
       "      <th>DAILY_MEDITATION</th>\n",
       "      <th>AGE</th>\n",
       "      <th>UNHEALTHY_STRESS</th>\n",
       "      <th>MALE</th>\n",
       "      <th>SUFFICIENT_INCOME</th>\n",
       "    </tr>\n",
       "  </thead>\n",
       "  <tbody>\n",
       "    <tr>\n",
       "      <th>0</th>\n",
       "      <td>0.048057</td>\n",
       "      <td>-1.007673</td>\n",
       "      <td>-0.170058</td>\n",
       "      <td>-1.709685</td>\n",
       "      <td>-0.503007</td>\n",
       "      <td>-0.713377</td>\n",
       "      <td>-1.449036</td>\n",
       "      <td>1</td>\n",
       "      <td>0.111560</td>\n",
       "      <td>0.374224</td>\n",
       "      <td>-0.244277</td>\n",
       "      <td>-1.144176</td>\n",
       "      <td>-0.029282</td>\n",
       "      <td>0.590355</td>\n",
       "      <td>0.773076</td>\n",
       "      <td>-0.547749</td>\n",
       "      <td>-1.200426</td>\n",
       "      <td>-0.412936</td>\n",
       "      <td>3</td>\n",
       "      <td>0</td>\n",
       "      <td>0</td>\n",
       "      <td>0</td>\n",
       "    </tr>\n",
       "    <tr>\n",
       "      <th>1</th>\n",
       "      <td>-0.640668</td>\n",
       "      <td>-0.404139</td>\n",
       "      <td>-0.871463</td>\n",
       "      <td>0.742610</td>\n",
       "      <td>1.118386</td>\n",
       "      <td>0.376730</td>\n",
       "      <td>-0.375972</td>\n",
       "      <td>2</td>\n",
       "      <td>-0.268197</td>\n",
       "      <td>-0.482498</td>\n",
       "      <td>-0.244277</td>\n",
       "      <td>0.396995</td>\n",
       "      <td>0.802558</td>\n",
       "      <td>-0.226759</td>\n",
       "      <td>-0.342291</td>\n",
       "      <td>-0.869458</td>\n",
       "      <td>-0.465430</td>\n",
       "      <td>-0.083419</td>\n",
       "      <td>3</td>\n",
       "      <td>0</td>\n",
       "      <td>0</td>\n",
       "      <td>1</td>\n",
       "    </tr>\n",
       "    <tr>\n",
       "      <th>2</th>\n",
       "      <td>-0.640668</td>\n",
       "      <td>-0.705906</td>\n",
       "      <td>-0.520761</td>\n",
       "      <td>-0.483537</td>\n",
       "      <td>1.118386</td>\n",
       "      <td>-0.350008</td>\n",
       "      <td>-0.375972</td>\n",
       "      <td>2</td>\n",
       "      <td>-1.407467</td>\n",
       "      <td>-0.482498</td>\n",
       "      <td>-0.590857</td>\n",
       "      <td>0.396995</td>\n",
       "      <td>0.802558</td>\n",
       "      <td>1.952212</td>\n",
       "      <td>-0.342291</td>\n",
       "      <td>-0.547749</td>\n",
       "      <td>1.739557</td>\n",
       "      <td>-1.071969</td>\n",
       "      <td>3</td>\n",
       "      <td>0</td>\n",
       "      <td>0</td>\n",
       "      <td>1</td>\n",
       "    </tr>\n",
       "    <tr>\n",
       "      <th>3</th>\n",
       "      <td>0.048057</td>\n",
       "      <td>1.406465</td>\n",
       "      <td>-0.871463</td>\n",
       "      <td>1.355683</td>\n",
       "      <td>0.145550</td>\n",
       "      <td>-0.713377</td>\n",
       "      <td>1.233624</td>\n",
       "      <td>2</td>\n",
       "      <td>-1.027710</td>\n",
       "      <td>0.802584</td>\n",
       "      <td>-0.244277</td>\n",
       "      <td>-1.144176</td>\n",
       "      <td>-1.692963</td>\n",
       "      <td>1.135098</td>\n",
       "      <td>0.773076</td>\n",
       "      <td>-0.226041</td>\n",
       "      <td>-0.465430</td>\n",
       "      <td>-2.060520</td>\n",
       "      <td>4</td>\n",
       "      <td>0</td>\n",
       "      <td>0</td>\n",
       "      <td>0</td>\n",
       "    </tr>\n",
       "    <tr>\n",
       "      <th>4</th>\n",
       "      <td>1.425506</td>\n",
       "      <td>-0.705906</td>\n",
       "      <td>-0.871463</td>\n",
       "      <td>1.355683</td>\n",
       "      <td>-0.827285</td>\n",
       "      <td>-0.713377</td>\n",
       "      <td>0.697092</td>\n",
       "      <td>2</td>\n",
       "      <td>-0.268197</td>\n",
       "      <td>-1.339219</td>\n",
       "      <td>-0.244277</td>\n",
       "      <td>-1.144176</td>\n",
       "      <td>-0.029282</td>\n",
       "      <td>-0.771502</td>\n",
       "      <td>-1.085869</td>\n",
       "      <td>0.739085</td>\n",
       "      <td>-0.832928</td>\n",
       "      <td>-0.412936</td>\n",
       "      <td>4</td>\n",
       "      <td>0</td>\n",
       "      <td>0</td>\n",
       "      <td>1</td>\n",
       "    </tr>\n",
       "  </tbody>\n",
       "</table>\n",
       "</div>"
      ],
      "text/plain": [
       "   FRUITS_VEGGIES  PLACES_VISITED  CORE_CIRCLE  SUPPORTING_OTHERS  \\\n",
       "0        0.048057       -1.007673    -0.170058          -1.709685   \n",
       "1       -0.640668       -0.404139    -0.871463           0.742610   \n",
       "2       -0.640668       -0.705906    -0.520761          -0.483537   \n",
       "3        0.048057        1.406465    -0.871463           1.355683   \n",
       "4        1.425506       -0.705906    -0.871463           1.355683   \n",
       "\n",
       "   SOCIAL_NETWORK  ACHIEVEMENT  DONATION  BMI_RANGE  TODO_COMPLETED      FLOW  \\\n",
       "0       -0.503007    -0.713377 -1.449036          1        0.111560  0.374224   \n",
       "1        1.118386     0.376730 -0.375972          2       -0.268197 -0.482498   \n",
       "2        1.118386    -0.350008 -0.375972          2       -1.407467 -0.482498   \n",
       "3        0.145550    -0.713377  1.233624          2       -1.027710  0.802584   \n",
       "4       -0.827285    -0.713377  0.697092          2       -0.268197 -1.339219   \n",
       "\n",
       "   DAILY_STEPS  LIVE_VISION  SLEEP_HOURS  LOST_VACATION  DAILY_SHOUTING  \\\n",
       "0    -0.244277    -1.144176    -0.029282       0.590355        0.773076   \n",
       "1    -0.244277     0.396995     0.802558      -0.226759       -0.342291   \n",
       "2    -0.590857     0.396995     0.802558       1.952212       -0.342291   \n",
       "3    -0.244277    -1.144176    -1.692963       1.135098        0.773076   \n",
       "4    -0.244277    -1.144176    -0.029282      -0.771502       -1.085869   \n",
       "\n",
       "   PERSONAL_AWARDS  TIME_FOR_PASSION  DAILY_MEDITATION  AGE  UNHEALTHY_STRESS  \\\n",
       "0        -0.547749         -1.200426         -0.412936    3                 0   \n",
       "1        -0.869458         -0.465430         -0.083419    3                 0   \n",
       "2        -0.547749          1.739557         -1.071969    3                 0   \n",
       "3        -0.226041         -0.465430         -2.060520    4                 0   \n",
       "4         0.739085         -0.832928         -0.412936    4                 0   \n",
       "\n",
       "   MALE  SUFFICIENT_INCOME  \n",
       "0     0                  0  \n",
       "1     0                  1  \n",
       "2     0                  1  \n",
       "3     0                  0  \n",
       "4     0                  1  "
      ]
     },
     "execution_count": 30,
     "metadata": {},
     "output_type": "execute_result"
    }
   ],
   "source": [
    "df2.head()"
   ]
  },
  {
   "cell_type": "code",
   "execution_count": 31,
   "id": "devoted-fraud",
   "metadata": {},
   "outputs": [],
   "source": [
    "X = df2.drop(['UNHEALTHY_STRESS'], axis=1)\n",
    "y = df2['UNHEALTHY_STRESS']"
   ]
  },
  {
   "cell_type": "markdown",
   "id": "brazilian-shanghai",
   "metadata": {},
   "source": [
    "<b>Balancing the data<b>"
   ]
  },
  {
   "cell_type": "code",
   "execution_count": 32,
   "id": "recovered-discharge",
   "metadata": {},
   "outputs": [
    {
     "data": {
      "text/plain": [
       "0    8792\n",
       "1    8792\n",
       "Name: UNHEALTHY_STRESS, dtype: int64"
      ]
     },
     "execution_count": 32,
     "metadata": {},
     "output_type": "execute_result"
    }
   ],
   "source": [
    "from imblearn.over_sampling import SMOTE\n",
    "\n",
    "smote = SMOTE(sampling_strategy='minority')\n",
    "X_sm, y_sm = smote.fit_resample(X,y)\n",
    "y_sm.value_counts()"
   ]
  },
  {
   "cell_type": "markdown",
   "id": "becoming-congo",
   "metadata": {},
   "source": [
    "<b>Splitting the data to prevent overfitting<b>"
   ]
  },
  {
   "cell_type": "code",
   "execution_count": 33,
   "id": "welsh-affiliate",
   "metadata": {},
   "outputs": [
    {
     "data": {
      "text/plain": [
       "((14067, 21), (3517, 21))"
      ]
     },
     "execution_count": 33,
     "metadata": {},
     "output_type": "execute_result"
    }
   ],
   "source": [
    "from sklearn.model_selection import train_test_split\n",
    "X_train, X_test, y_train, y_test = train_test_split(X_sm, y_sm, test_size = 0.2, random_state=0, stratify=y_sm)\n",
    "\n",
    "X_train.shape, X_test.shape"
   ]
  },
  {
   "cell_type": "markdown",
   "id": "celtic-prison",
   "metadata": {},
   "source": [
    "<b>Feature Selection<b>"
   ]
  },
  {
   "cell_type": "code",
   "execution_count": 34,
   "id": "pleasant-hollywood",
   "metadata": {},
   "outputs": [
    {
     "data": {
      "text/plain": [
       "VarianceThreshold(threshold=0)"
      ]
     },
     "execution_count": 34,
     "metadata": {},
     "output_type": "execute_result"
    }
   ],
   "source": [
    "# using variance threshold\n",
    "from sklearn.feature_selection import VarianceThreshold\n",
    "var_thres = VarianceThreshold(threshold=0)\n",
    "var_thres.fit(X_train)"
   ]
  },
  {
   "cell_type": "code",
   "execution_count": 35,
   "id": "fifth-energy",
   "metadata": {},
   "outputs": [
    {
     "data": {
      "text/plain": [
       "array([ True,  True,  True,  True,  True,  True,  True,  True,  True,\n",
       "        True,  True,  True,  True,  True,  True,  True,  True,  True,\n",
       "        True,  True,  True])"
      ]
     },
     "execution_count": 35,
     "metadata": {},
     "output_type": "execute_result"
    }
   ],
   "source": [
    "var_thres.get_support()"
   ]
  },
  {
   "cell_type": "code",
   "execution_count": 36,
   "id": "copyrighted-community",
   "metadata": {},
   "outputs": [
    {
     "data": {
      "text/plain": [
       "21"
      ]
     },
     "execution_count": 36,
     "metadata": {},
     "output_type": "execute_result"
    }
   ],
   "source": [
    "# Finding non-constant features\n",
    "sum(var_thres.get_support())\n",
    "\n"
   ]
  },
  {
   "cell_type": "code",
   "execution_count": 37,
   "id": "abandoned-humor",
   "metadata": {},
   "outputs": [
    {
     "name": "stdout",
     "output_type": "stream",
     "text": [
      "0\n"
     ]
    }
   ],
   "source": [
    "constant_columns = [column for column in X_train.columns\n",
    "                    if column not in X_train.columns[var_thres.get_support()]]\n",
    "print(len(constant_columns))\n",
    "\n",
    "# so we have no constant features here"
   ]
  },
  {
   "cell_type": "code",
   "execution_count": 38,
   "id": "planned-zambia",
   "metadata": {},
   "outputs": [
    {
     "data": {
      "image/png": "[encoded data removed]",
      "text/plain": [
       "<Figure size 864x720 with 2 Axes>"
      ]
     },
     "metadata": {},
     "output_type": "display_data"
    }
   ],
   "source": [
    "# Using Pearson Correlation\n",
    "plt.figure(figsize=(12,10))\n",
    "cor = X_train.corr()\n",
    "sns.heatmap(cor, annot=True, cmap=plt.cm.CMRmap_r)\n",
    "plt.show()"
   ]
  },
  {
   "cell_type": "code",
   "execution_count": 39,
   "id": "deadly-measurement",
   "metadata": {},
   "outputs": [],
   "source": [
    "# with the following function we can select highly correlated features\n",
    "\n",
    "\n",
    "def correlation(dataset, threshold):\n",
    "    col_corr = set()  # Set of all the names of correlated columns\n",
    "    corr_matrix = dataset.corr()\n",
    "    for i in range(len(corr_matrix.columns)):\n",
    "        for j in range(i):\n",
    "            if abs(corr_matrix.iloc[i, j]) > threshold: # we are interested in absolute coeff value\n",
    "                colname = corr_matrix.columns[i]  # getting the name of column\n",
    "                col_corr.add(colname)\n",
    "    return col_corr"
   ]
  },
  {
   "cell_type": "code",
   "execution_count": 40,
   "id": "disabled-secretary",
   "metadata": {},
   "outputs": [
    {
     "data": {
      "text/plain": [
       "0"
      ]
     },
     "execution_count": 40,
     "metadata": {},
     "output_type": "execute_result"
    }
   ],
   "source": [
    "corr_features = correlation(X_train, 0.85)\n",
    "len(set(corr_features))"
   ]
  },
  {
   "cell_type": "code",
   "execution_count": 41,
   "id": "equal-casino",
   "metadata": {},
   "outputs": [],
   "source": [
    "# so we have no highly correlated features here"
   ]
  },
  {
   "cell_type": "code",
   "execution_count": 42,
   "id": "optional-parks",
   "metadata": {},
   "outputs": [],
   "source": [
    "# Using Information Gain"
   ]
  },
  {
   "cell_type": "code",
   "execution_count": 43,
   "id": "informative-venezuela",
   "metadata": {},
   "outputs": [
    {
     "data": {
      "text/plain": [
       "array([0.1325025 , 0.16637146, 0.18045448, 0.16545424, 0.14470982,\n",
       "       0.1805918 , 0.12028996, 0.        , 0.17765812, 0.17016131,\n",
       "       0.1768624 , 0.16733289, 0.13669864, 0.12843736, 0.18863221,\n",
       "       0.16516976, 0.17560559, 0.17968505, 0.00440517, 0.01058382,\n",
       "       0.02349973])"
      ]
     },
     "execution_count": 43,
     "metadata": {},
     "output_type": "execute_result"
    }
   ],
   "source": [
    "from sklearn.feature_selection import mutual_info_classif\n",
    "# determine the mutual information\n",
    "mutual_info = mutual_info_classif(X_train, y_train)\n",
    "mutual_info"
   ]
  },
  {
   "cell_type": "code",
   "execution_count": 44,
   "id": "prospective-sculpture",
   "metadata": {},
   "outputs": [
    {
     "data": {
      "text/plain": [
       "DAILY_SHOUTING       0.188632\n",
       "ACHIEVEMENT          0.180592\n",
       "CORE_CIRCLE          0.180454\n",
       "DAILY_MEDITATION     0.179685\n",
       "TODO_COMPLETED       0.177658\n",
       "DAILY_STEPS          0.176862\n",
       "TIME_FOR_PASSION     0.175606\n",
       "FLOW                 0.170161\n",
       "LIVE_VISION          0.167333\n",
       "PLACES_VISITED       0.166371\n",
       "SUPPORTING_OTHERS    0.165454\n",
       "PERSONAL_AWARDS      0.165170\n",
       "SOCIAL_NETWORK       0.144710\n",
       "SLEEP_HOURS          0.136699\n",
       "FRUITS_VEGGIES       0.132502\n",
       "LOST_VACATION        0.128437\n",
       "DONATION             0.120290\n",
       "SUFFICIENT_INCOME    0.023500\n",
       "MALE                 0.010584\n",
       "AGE                  0.004405\n",
       "BMI_RANGE            0.000000\n",
       "dtype: float64"
      ]
     },
     "execution_count": 44,
     "metadata": {},
     "output_type": "execute_result"
    }
   ],
   "source": [
    "mutual_info = pd.Series(mutual_info)\n",
    "mutual_info.index = X_train.columns\n",
    "mutual_info.sort_values(ascending=False)"
   ]
  },
  {
   "cell_type": "code",
   "execution_count": 45,
   "id": "excited-throw",
   "metadata": {},
   "outputs": [
    {
     "data": {
      "text/plain": [
       "<AxesSubplot:>"
      ]
     },
     "execution_count": 45,
     "metadata": {},
     "output_type": "execute_result"
    },
    {
     "data": {
      "image/png": "[encoded data removed]",
      "text/plain": [
       "<Figure size 1440x576 with 1 Axes>"
      ]
     },
     "metadata": {},
     "output_type": "display_data"
    }
   ],
   "source": [
    "mutual_info.sort_values(ascending=False).plot.bar(figsize=(20, 8))"
   ]
  },
  {
   "cell_type": "code",
   "execution_count": 46,
   "id": "hydraulic-black",
   "metadata": {},
   "outputs": [],
   "source": [
    "from sklearn.feature_selection import SelectKBest"
   ]
  },
  {
   "cell_type": "code",
   "execution_count": 47,
   "id": "arbitrary-kelly",
   "metadata": {},
   "outputs": [
    {
     "data": {
      "text/plain": [
       "Index(['PLACES_VISITED', 'CORE_CIRCLE', 'ACHIEVEMENT', 'TODO_COMPLETED',\n",
       "       'FLOW', 'DAILY_STEPS', 'LIVE_VISION', 'DAILY_SHOUTING',\n",
       "       'TIME_FOR_PASSION', 'DAILY_MEDITATION'],\n",
       "      dtype='object')"
      ]
     },
     "execution_count": 47,
     "metadata": {},
     "output_type": "execute_result"
    }
   ],
   "source": [
    "sel_cols = SelectKBest(mutual_info_classif, k=10)\n",
    "sel_cols.fit(X_train, y_train)\n",
    "X_train.columns[sel_cols.get_support()]"
   ]
  },

  {
   "cell_type": "markdown",
   "id": "detailed-height",
   "metadata": {},
   "source": [
    "<b>Model building<b>"
   ]
  },
  {
   "cell_type": "code",
   "execution_count": 48,
   "id": "registered-mercury",
   "metadata": {},
   "outputs": [],
   "source": [
    "X_sm2 = df2[['CORE_CIRCLE', 'ACHIEVEMENT', 'TODO_COMPLETED', 'LIVE_VISION',\n",
    "       'SLEEP_HOURS', 'LOST_VACATION', 'DAILY_SHOUTING', 'TIME_FOR_PASSION',\n",
    "       'DAILY_MEDITATION', 'SUFFICIENT_INCOME']]\n",
    "y_sm = df2['UNHEALTHY_STRESS']\n",
    "\n",
    "X_train, X_test, y_train, y_test = train_test_split(X_sm2, y_sm, test_size = 0.2, random_state=0, stratify=y_sm)\n"
   ]
  },
  {
   "cell_type": "code",
   "execution_count": 49,
   "id": "peaceful-lightning",
   "metadata": {},
   "outputs": [
    {
     "data": {
      "text/plain": [
       "LogisticRegression()"
      ]
     },
     "execution_count": 49,
     "metadata": {},
     "output_type": "execute_result"
    }
   ],
   "source": [
    "from sklearn.linear_model import LogisticRegression\n",
    "logmodel = LogisticRegression()\n",
    "logmodel.fit(X_train, y_train)"
   ]
  },
  {
   "cell_type": "code",
   "execution_count": 50,
   "id": "fifteen-badge",
   "metadata": {},
   "outputs": [
    {
     "data": {
      "text/plain": [
       "0.7232457859662877"
      ]
     },
     "execution_count": 50,
     "metadata": {},
     "output_type": "execute_result"
    }
   ],
   "source": [
    "logmodel.score(X_train, y_train)"
   ]
  },
  {
   "cell_type": "code",
   "execution_count": 51,
   "id": "hairy-joint",
   "metadata": {},
   "outputs": [],
   "source": [
    "y_pred = logmodel.predict(X_test)"
   ]
  },
  {
   "cell_type": "code",
   "execution_count": 52,
   "id": "narrow-biology",
   "metadata": {},
   "outputs": [
    {
     "data": {
      "text/plain": [
       "array([[1618,  140],\n",
       "       [ 584,  209]], dtype=int64)"
      ]
     },
     "execution_count": 52,
     "metadata": {},
     "output_type": "execute_result"
    }
   ],
   "source": [
    "from sklearn.metrics import confusion_matrix\n",
    "confusion_matrix = confusion_matrix(y_test, y_pred)\n",
    "confusion_matrix"
   ]
  },
  {
   "cell_type": "code",
   "execution_count": 53,
   "id": "common-tyler",
   "metadata": {},
   "outputs": [
    {
     "name": "stdout",
     "output_type": "stream",
     "text": [
      "              precision    recall  f1-score   support\n",
      "\n",
      "           0       0.73      0.92      0.82      1758\n",
      "           1       0.60      0.26      0.37       793\n",
      "\n",
      "    accuracy                           0.72      2551\n",
      "   macro avg       0.67      0.59      0.59      2551\n",
      "weighted avg       0.69      0.72      0.68      2551\n",
      "\n"
     ]
    }
   ],
   "source": [
    "from sklearn.metrics import classification_report\n",
    "print(classification_report(y_test, y_pred))"
   ]
  },
  {
   "cell_type": "code",
   "execution_count": 54,
   "id": "sensitive-huntington",
   "metadata": {},
   "outputs": [],
   "source": [
    "from sklearn.metrics import accuracy_score\n"
   ]
  },
  {
   "cell_type": "code",
   "execution_count": 55,
   "id": "satellite-gabriel",
   "metadata": {},
   "outputs": [
    {
     "data": {
      "text/plain": [
       "0.7161897295178361"
      ]
     },
     "execution_count": 55,
     "metadata": {},
     "output_type": "execute_result"
    }
   ],
   "source": [
    "accuracy = accuracy_score(y_test, y_pred)\n",
    "accuracy"
   ]
  },
  {
   "cell_type": "code",
   "execution_count": 56,
   "id": "afraid-mason",
   "metadata": {},
   "outputs": [
    {
     "data": {
      "text/plain": [
       "DAILY_SHOUTING       0.428244\n",
       "LOST_VACATION        0.301326\n",
       "LIVE_VISION         -0.077664\n",
       "ACHIEVEMENT         -0.079218\n",
       "TIME_FOR_PASSION    -0.080354\n",
       "CORE_CIRCLE         -0.090715\n",
       "TODO_COMPLETED      -0.091428\n",
       "SLEEP_HOURS         -0.139737\n",
       "DAILY_MEDITATION    -0.240837\n",
       "SUFFICIENT_INCOME   -0.350240\n",
       "dtype: float64"
      ]
     },
     "execution_count": 56,
     "metadata": {},
     "output_type": "execute_result"
    }
   ],
   "source": [
    "weights = pd.Series(logmodel.coef_[0], index=X_sm2.columns.values)\n",
    "weights.sort_values(ascending=False)"
   ]
  },
  {
   "cell_type": "markdown",
   "id": "discrete-anger",
   "metadata": {},
   "source": [
    "In order to prevent high stress level leading to depression it is necessary to maintain sufficient income, \n",
    "have enough time spent on daily meditation (or praying) and get more sleep. Factors such as daily shouting or lost vacation \n",
    "contribute to higher stress level."
   ]
  },
  {
   "cell_type": "code",
   "execution_count": null,
   "id": "caroline-petersburg",
   "metadata": {},
   "outputs": [],
   "source": []
  }
 ],
 "metadata": {
  "kernelspec": {
   "display_name": "py3-TF2.0",
   "language": "python",
   "name": "py3-tf2.0"
  },
  "language_info": {
   "codemirror_mode": {
    "name": "ipython",
    "version": 3
   },
   "file_extension": ".py",
   "mimetype": "text/x-python",
   "name": "python",
   "nbconvert_exporter": "python",
   "pygments_lexer": "ipython3",
   "version": "3.8.6"
  }
 },
 "nbformat": 4,
 "nbformat_minor": 5
}
